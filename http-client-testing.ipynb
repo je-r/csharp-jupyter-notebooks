{
 "cells": [
  {
   "cell_type": "code",
   "execution_count": 7,
   "id": "197294e3-e0b6-449b-8fd2-542d91b7f04c",
   "metadata": {},
   "outputs": [],
   "source": [
    "using System.Net.Http;\n",
    "using System.Threading;"
   ]
  },
  {
   "cell_type": "code",
   "execution_count": 8,
   "id": "73549905-8db4-40e1-8a17-6503ce4e124d",
   "metadata": {},
   "outputs": [],
   "source": [
    "HttpClient client = new HttpClient();"
   ]
  },
  {
   "cell_type": "code",
   "execution_count": 9,
   "id": "94ce21f5-0b59-48e4-9ea4-cbc6979b32fc",
   "metadata": {},
   "outputs": [],
   "source": [
    "var result = await client.GetAsync(\"http://webcode.me\");"
   ]
  },
  {
   "cell_type": "code",
   "execution_count": 10,
   "id": "27ea7803-cb52-43b5-8c4f-bc3f581c712c",
   "metadata": {},
   "outputs": [],
   "source": [
    "public class LoggingHandler : DelegatingHandler\n",
    "{\n",
    "    public LoggingHandler(HttpMessageHandler innerHandler)\n",
    "        : base(innerHandler)\n",
    "    {\n",
    "    }\n",
    "\n",
    "    protected override async Task<HttpResponseMessage> SendAsync(HttpRequestMessage request, CancellationToken cancellationToken)\n",
    "    {\n",
    "        Console.WriteLine(\"Request:\");\n",
    "        Console.WriteLine(request.ToString());\n",
    "        if (request.Content != null)\n",
    "        {\n",
    "            Console.WriteLine(await request.Content.ReadAsStringAsync());\n",
    "        }\n",
    "        Console.WriteLine();\n",
    "\n",
    "        HttpResponseMessage response = await base.SendAsync(request, cancellationToken);\n",
    "\n",
    "        Console.WriteLine(\"Response:\");\n",
    "        Console.WriteLine(response.ToString());\n",
    "        if (response.Content != null)\n",
    "        {\n",
    "            Console.WriteLine(await response.Content.ReadAsStringAsync());\n",
    "        }\n",
    "        Console.WriteLine();\n",
    "\n",
    "        return response;\n",
    "    }\n",
    "}\n"
   ]
  },
  {
   "cell_type": "code",
   "execution_count": 11,
   "id": "cf259fe5-469f-4197-8bed-8756d853c2c2",
   "metadata": {},
   "outputs": [],
   "source": [
    "HttpClient client2 = new HttpClient(new LoggingHandler(new HttpClientHandler()));"
   ]
  },
  {
   "cell_type": "code",
   "execution_count": 12,
   "id": "1758bb97-8027-4a79-b6e5-1abf9ea2cd10",
   "metadata": {},
   "outputs": [
    {
     "name": "stdout",
     "output_type": "stream",
     "text": [
      "Request:\n",
      "Method: GET, RequestUri: 'http://webcode.me/', Version: 1.1, Content: <null>, Headers:\n",
      "{\n",
      "}\n",
      "\n",
      "Response:\n",
      "StatusCode: 200, ReasonPhrase: 'OK', Version: 1.1, Content: System.Net.Http.HttpConnectionResponseContent, Headers:\n",
      "{\n",
      "  Server: nginx/1.6.2\n",
      "  Date: Sat, 01 Jan 2022 13:19:57 GMT\n",
      "  Connection: keep-alive\n",
      "  ETag: \"5d32ffc5-15c\"\n",
      "  Access-Control-Allow-Origin: *\n",
      "  Accept-Ranges: bytes\n",
      "  Content-Type: text/html\n",
      "  Content-Length: 348\n",
      "  Last-Modified: Sat, 20 Jul 2019 11:49:25 GMT\n",
      "}\n",
      "<!DOCTYPE html>\n",
      "<html lang=\"en\">\n",
      "<head>\n",
      "    <meta charset=\"UTF-8\">\n",
      "    <meta name=\"viewport\" content=\"width=device-width, initial-scale=1.0\">\n",
      "    <title>My html page</title>\n",
      "</head>\n",
      "<body>\n",
      "\n",
      "    <p>\n",
      "        Today is a beautiful day. We go swimming and fishing.\n",
      "    </p>\n",
      "    \n",
      "    <p>\n",
      "         Hello there. How are you?\n",
      "    </p>\n",
      "    \n",
      "</body>\n",
      "</html>\n",
      "\n",
      "\n",
      "\n"
     ]
    }
   ],
   "source": [
    "var result2 = await client2.GetAsync(\"http://webcode.me\");"
   ]
  },
  {
   "cell_type": "code",
   "execution_count": null,
   "id": "d89788ea-653b-4b0c-be3a-ceef53a2df0b",
   "metadata": {},
   "outputs": [],
   "source": []
  }
 ],
 "metadata": {
  "kernelspec": {
   "display_name": ".NET (C#)",
   "language": "C#",
   "name": ".net-csharp"
  },
  "language_info": {
   "file_extension": ".cs",
   "mimetype": "text/x-csharp",
   "name": "C#",
   "pygments_lexer": "csharp",
   "version": "9.0"
  }
 },
 "nbformat": 4,
 "nbformat_minor": 5
}
